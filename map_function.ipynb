{
  "nbformat": 4,
  "nbformat_minor": 0,
  "metadata": {
    "colab": {
      "name": "Python & Pandas.ipynb",
      "provenance": [],
      "collapsed_sections": [],
      "authorship_tag": "ABX9TyPtIHuAaQXnAxnmVmdIRMZV",
      "include_colab_link": true
    },
    "kernelspec": {
      "name": "python3",
      "display_name": "Python 3"
    }
  },
  "cells": [
    {
      "cell_type": "markdown",
      "metadata": {
        "id": "view-in-github",
        "colab_type": "text"
      },
      "source": [
        "<a href=\"https://colab.research.google.com/github/PriyankaGPawar/Pandas_Practice/blob/master/map_function.ipynb\" target=\"_parent\"><img src=\"https://colab.research.google.com/assets/colab-badge.svg\" alt=\"Open In Colab\"/></a>"
      ]
    },
    {
      "cell_type": "markdown",
      "metadata": {
        "id": "Yi2jAMAxAipz",
        "colab_type": "text"
      },
      "source": [
        "## map and lambda func"
      ]
    },
    {
      "cell_type": "code",
      "metadata": {
        "id": "r5JHmPWk4J6r",
        "colab_type": "code",
        "outputId": "b0d23c80-9c2d-4d37-d703-b1074fba525c",
        "colab": {
          "base_uri": "https://localhost:8080/",
          "height": 34
        }
      },
      "source": [
        "dict_a = [{'name': 'python', 'points': 10}, {'name': 'java', 'points': 8}]\n",
        "dict_a"
      ],
      "execution_count": 0,
      "outputs": [
        {
          "output_type": "execute_result",
          "data": {
            "text/plain": [
              "[{'name': 'python', 'points': 10}, {'name': 'java', 'points': 8}]"
            ]
          },
          "metadata": {
            "tags": []
          },
          "execution_count": 2
        }
      ]
    },
    {
      "cell_type": "code",
      "metadata": {
        "id": "NuXFqz8M4Pad",
        "colab_type": "code",
        "colab": {}
      },
      "source": [
        "## map and lambda function"
      ],
      "execution_count": 0,
      "outputs": []
    },
    {
      "cell_type": "code",
      "metadata": {
        "id": "HbnvtSma4UnF",
        "colab_type": "code",
        "outputId": "ee66d12d-9e47-4f2b-af36-1d20abcc9132",
        "colab": {
          "base_uri": "https://localhost:8080/",
          "height": 34
        }
      },
      "source": [
        "# get me a list of names from dictionary\n",
        "\n",
        "map(lambda x : x['name'], dict_a)           # Output: ['python', 'java']\n",
        "# ***** Above funciton does not print anything. To get it print the result , convert it to list as below\n",
        "\n",
        "list(map(lambda x:x['name'], dict_a)) "
      ],
      "execution_count": 0,
      "outputs": [
        {
          "output_type": "execute_result",
          "data": {
            "text/plain": [
              "['python', 'java']"
            ]
          },
          "metadata": {
            "tags": []
          },
          "execution_count": 13
        }
      ]
    },
    {
      "cell_type": "code",
      "metadata": {
        "id": "FUwyj8kq60bw",
        "colab_type": "code",
        "outputId": "d9277297-5d92-4e60-9c64-fb44c05880c6",
        "colab": {
          "base_uri": "https://localhost:8080/",
          "height": 34
        }
      },
      "source": [
        "# multiply points by 10\n",
        "list(map(lambda x:x['points']*10, dict_a))"
      ],
      "execution_count": 0,
      "outputs": [
        {
          "output_type": "execute_result",
          "data": {
            "text/plain": [
              "[100, 80]"
            ]
          },
          "metadata": {
            "tags": []
          },
          "execution_count": 14
        }
      ]
    },
    {
      "cell_type": "code",
      "metadata": {
        "id": "0IXa_XTb72gK",
        "colab_type": "code",
        "outputId": "5cb61a57-b768-41c1-baa4-5b205403cc09",
        "colab": {
          "base_uri": "https://localhost:8080/",
          "height": 34
        }
      },
      "source": [
        "# check if the dict has any key value as python\n",
        "list(map(lambda x : x['name']=='python', dict_a))\n",
        "\n",
        "#below results indicate that first key has value as \"python\""
      ],
      "execution_count": 0,
      "outputs": [
        {
          "output_type": "execute_result",
          "data": {
            "text/plain": [
              "[True, False]"
            ]
          },
          "metadata": {
            "tags": []
          },
          "execution_count": 16
        }
      ]
    },
    {
      "cell_type": "markdown",
      "metadata": {
        "id": "utANBpuwAeAM",
        "colab_type": "text"
      },
      "source": [
        "## Dict and map function"
      ]
    },
    {
      "cell_type": "code",
      "metadata": {
        "id": "S_Nx4Yoffo6i",
        "colab_type": "code",
        "colab": {}
      },
      "source": [
        "import pandas as pd\n",
        "data = pd.read_csv(\"https://raw.githubusercontent.com/Mineria/Titanic/master/csv/train.csv\")\n",
        "\n",
        "# Drop Ticket & Cabin \n",
        "data = data.drop(['Ticket', 'Cabin'], axis=1)\n",
        "data['FareBand'] = pd.qcut(data['Fare'], 4).astype(str)"
      ],
      "execution_count": 0,
      "outputs": []
    },
    {
      "cell_type": "code",
      "metadata": {
        "id": "XaICdlp2f4DH",
        "colab_type": "code",
        "colab": {
          "base_uri": "https://localhost:8080/",
          "height": 51
        },
        "outputId": "6e9e03cd-5db4-464c-c1b2-89f7df2b351a"
      },
      "source": [
        "data['FareBand'].unique()"
      ],
      "execution_count": 6,
      "outputs": [
        {
          "output_type": "execute_result",
          "data": {
            "text/plain": [
              "array(['(-0.001, 7.91]', '(31.0, 512.329]', '(7.91, 14.454]',\n",
              "       '(14.454, 31.0]'], dtype=object)"
            ]
          },
          "metadata": {
            "tags": []
          },
          "execution_count": 6
        }
      ]
    },
    {
      "cell_type": "code",
      "metadata": {
        "id": "x_quZuk9An_0",
        "colab_type": "code",
        "colab": {}
      },
      "source": [
        "data['FareBand'] = data['FareBand'].map( {'(-0.001, 7.91]': 0, '(31.0, 512.329]': 3, \n",
        "                                          '(7.91, 14.454]': 1, '(14.454, 31.0]':2 } ).astype(int)\n",
        "\n",
        "#  ( ) are used for exclusion of specified value.\n",
        "#  [ ] Does the include specified value"
      ],
      "execution_count": 0,
      "outputs": []
    }
  ]
}