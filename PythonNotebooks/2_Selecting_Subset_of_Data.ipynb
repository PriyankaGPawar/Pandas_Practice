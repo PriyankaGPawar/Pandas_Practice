{
  "nbformat": 4,
  "nbformat_minor": 0,
  "metadata": {
    "colab": {
      "name": "2. Selecting Subset of Data.ipynb",
      "provenance": [],
      "collapsed_sections": [],
      "toc_visible": true,
      "authorship_tag": "ABX9TyPxbK//y91quhAQv5NUMUgR",
      "include_colab_link": true
    },
    "kernelspec": {
      "name": "python3",
      "display_name": "Python 3"
    }
  },
  "cells": [
    {
      "cell_type": "markdown",
      "metadata": {
        "id": "view-in-github",
        "colab_type": "text"
      },
      "source": [
        "<a href=\"https://colab.research.google.com/github/PriyankaGPawar/Pandas_Practice/blob/master/PythonNotebooks/2_Selecting_Subset_of_Data.ipynb\" target=\"_parent\"><img src=\"https://colab.research.google.com/assets/colab-badge.svg\" alt=\"Open In Colab\"/></a>"
      ]
    },
    {
      "cell_type": "code",
      "metadata": {
        "id": "AZj8ezReCRB4",
        "colab_type": "code",
        "colab": {}
      },
      "source": [
        "import pandas as pd\n",
        "import numpy as np"
      ],
      "execution_count": 0,
      "outputs": []
    },
    {
      "cell_type": "markdown",
      "metadata": {
        "id": "ZGq9qpJOMelf",
        "colab_type": "text"
      },
      "source": [
        "## Select single column"
      ]
    },
    {
      "cell_type": "code",
      "metadata": {
        "id": "8zK0GN8DMnhn",
        "colab_type": "code",
        "colab": {}
      },
      "source": [
        "# Using the brackets and dot notation provide two different ways to select a single column of data.\n",
        "# Dot notation does now work for columns with spaces or columns with the same name as DataFrame methods.\n",
        "# The dot notation provides no additional functionality over the brackets and does not work in all situations"
      ],
      "execution_count": 0,
      "outputs": []
    },
    {
      "cell_type": "code",
      "metadata": {
        "id": "GAhbbAT2MtaQ",
        "colab_type": "code",
        "colab": {}
      },
      "source": [
        "## Minimally Sufficient Guiding Principle\n",
        "      # If a method does not provide any additional functionality over another method (i.e. its functionality is \n",
        "      # a subset of another) then it shouldn't be used. \n",
        "\n",
        "# Methods should only be considered if they have some additional, unique functionality.\n",
        "\n",
        "## Guidance - Only use the brackets when selecting a single column of data"
      ],
      "execution_count": 0,
      "outputs": []
    },
    {
      "cell_type": "code",
      "metadata": {
        "id": "1C2Y5AVLB63v",
        "colab_type": "code",
        "outputId": "1ca7fb70-7ef6-43b8-de96-8baba7cf59c5",
        "colab": {
          "base_uri": "https://localhost:8080/",
          "height": 257
        }
      },
      "source": [
        "df=pd.read_csv('https://raw.githubusercontent.com/tdpetrou/Minimally-Sufficient-Pandas/master/data/sample_data.csv')\n",
        "\n",
        "df"
      ],
      "execution_count": 0,
      "outputs": [
        {
          "output_type": "execute_result",
          "data": {
            "text/html": [
              "<div>\n",
              "<style scoped>\n",
              "    .dataframe tbody tr th:only-of-type {\n",
              "        vertical-align: middle;\n",
              "    }\n",
              "\n",
              "    .dataframe tbody tr th {\n",
              "        vertical-align: top;\n",
              "    }\n",
              "\n",
              "    .dataframe thead th {\n",
              "        text-align: right;\n",
              "    }\n",
              "</style>\n",
              "<table border=\"1\" class=\"dataframe\">\n",
              "  <thead>\n",
              "    <tr style=\"text-align: right;\">\n",
              "      <th></th>\n",
              "      <th>name</th>\n",
              "      <th>state</th>\n",
              "      <th>color</th>\n",
              "      <th>favorite food</th>\n",
              "      <th>age</th>\n",
              "      <th>height</th>\n",
              "      <th>score</th>\n",
              "      <th>count</th>\n",
              "    </tr>\n",
              "  </thead>\n",
              "  <tbody>\n",
              "    <tr>\n",
              "      <th>0</th>\n",
              "      <td>Jane</td>\n",
              "      <td>NY</td>\n",
              "      <td>blue</td>\n",
              "      <td>Steak</td>\n",
              "      <td>30</td>\n",
              "      <td>165</td>\n",
              "      <td>4.6</td>\n",
              "      <td>10</td>\n",
              "    </tr>\n",
              "    <tr>\n",
              "      <th>1</th>\n",
              "      <td>Niko</td>\n",
              "      <td>TX</td>\n",
              "      <td>green</td>\n",
              "      <td>Lamb</td>\n",
              "      <td>2</td>\n",
              "      <td>70</td>\n",
              "      <td>8.3</td>\n",
              "      <td>4</td>\n",
              "    </tr>\n",
              "    <tr>\n",
              "      <th>2</th>\n",
              "      <td>Aaron</td>\n",
              "      <td>FL</td>\n",
              "      <td>red</td>\n",
              "      <td>Mango</td>\n",
              "      <td>12</td>\n",
              "      <td>120</td>\n",
              "      <td>9.0</td>\n",
              "      <td>3</td>\n",
              "    </tr>\n",
              "    <tr>\n",
              "      <th>3</th>\n",
              "      <td>Penelope</td>\n",
              "      <td>AL</td>\n",
              "      <td>white</td>\n",
              "      <td>Apple</td>\n",
              "      <td>4</td>\n",
              "      <td>80</td>\n",
              "      <td>3.3</td>\n",
              "      <td>12</td>\n",
              "    </tr>\n",
              "    <tr>\n",
              "      <th>4</th>\n",
              "      <td>Dean</td>\n",
              "      <td>AK</td>\n",
              "      <td>gray</td>\n",
              "      <td>Cheese</td>\n",
              "      <td>32</td>\n",
              "      <td>180</td>\n",
              "      <td>1.8</td>\n",
              "      <td>8</td>\n",
              "    </tr>\n",
              "    <tr>\n",
              "      <th>5</th>\n",
              "      <td>Christina</td>\n",
              "      <td>TX</td>\n",
              "      <td>black</td>\n",
              "      <td>Melon</td>\n",
              "      <td>33</td>\n",
              "      <td>172</td>\n",
              "      <td>9.5</td>\n",
              "      <td>99</td>\n",
              "    </tr>\n",
              "    <tr>\n",
              "      <th>6</th>\n",
              "      <td>Cornelia</td>\n",
              "      <td>TX</td>\n",
              "      <td>red</td>\n",
              "      <td>Beans</td>\n",
              "      <td>69</td>\n",
              "      <td>150</td>\n",
              "      <td>2.2</td>\n",
              "      <td>44</td>\n",
              "    </tr>\n",
              "  </tbody>\n",
              "</table>\n",
              "</div>"
            ],
            "text/plain": [
              "        name state  color favorite food  age  height  score  count\n",
              "0       Jane    NY   blue         Steak   30     165    4.6     10\n",
              "1       Niko    TX  green          Lamb    2      70    8.3      4\n",
              "2      Aaron    FL    red         Mango   12     120    9.0      3\n",
              "3   Penelope    AL  white         Apple    4      80    3.3     12\n",
              "4       Dean    AK   gray        Cheese   32     180    1.8      8\n",
              "5  Christina    TX  black         Melon   33     172    9.5     99\n",
              "6   Cornelia    TX    red         Beans   69     150    2.2     44"
            ]
          },
          "metadata": {
            "tags": []
          },
          "execution_count": 50
        }
      ]
    },
    {
      "cell_type": "code",
      "metadata": {
        "id": "FMogaxKaEA09",
        "colab_type": "code",
        "outputId": "5f6c5885-37a3-43be-9c74-3fb669d0150c",
        "colab": {
          "base_uri": "https://localhost:8080/",
          "height": 158
        }
      },
      "source": [
        "df.state.isnull()"
      ],
      "execution_count": 0,
      "outputs": [
        {
          "output_type": "execute_result",
          "data": {
            "text/plain": [
              "0    False\n",
              "1    False\n",
              "2    False\n",
              "3    False\n",
              "4    False\n",
              "5    False\n",
              "6    False\n",
              "Name: state, dtype: bool"
            ]
          },
          "metadata": {
            "tags": []
          },
          "execution_count": 51
        }
      ]
    },
    {
      "cell_type": "code",
      "metadata": {
        "id": "ErVPZtGPEZPg",
        "colab_type": "code",
        "outputId": "51aabf95-3e3e-4e47-9b1d-9fdb36bd6e37",
        "colab": {
          "base_uri": "https://localhost:8080/",
          "height": 158
        }
      },
      "source": [
        "df['state']"
      ],
      "execution_count": 0,
      "outputs": [
        {
          "output_type": "execute_result",
          "data": {
            "text/plain": [
              "0    NY\n",
              "1    TX\n",
              "2    FL\n",
              "3    AL\n",
              "4    AK\n",
              "5    TX\n",
              "6    TX\n",
              "Name: state, dtype: object"
            ]
          },
          "metadata": {
            "tags": []
          },
          "execution_count": 52
        }
      ]
    },
    {
      "cell_type": "code",
      "metadata": {
        "id": "iNanXUYrEgkJ",
        "colab_type": "code",
        "outputId": "f6848428-c9e4-4c26-a514-f9d3954442ac",
        "colab": {
          "base_uri": "https://localhost:8080/",
          "height": 70
        }
      },
      "source": [
        "df.columns"
      ],
      "execution_count": 0,
      "outputs": [
        {
          "output_type": "execute_result",
          "data": {
            "text/plain": [
              "Index(['name', 'state', 'color', 'favorite food', 'age', 'height', 'score',\n",
              "       'count'],\n",
              "      dtype='object')"
            ]
          },
          "metadata": {
            "tags": []
          },
          "execution_count": 53
        }
      ]
    },
    {
      "cell_type": "code",
      "metadata": {
        "id": "jJM-BG-QEjKS",
        "colab_type": "code",
        "outputId": "9b565837-4919-4f40-e479-888cc75f013d",
        "colab": {
          "base_uri": "https://localhost:8080/",
          "height": 158
        }
      },
      "source": [
        "df['favorite food']"
      ],
      "execution_count": 0,
      "outputs": [
        {
          "output_type": "execute_result",
          "data": {
            "text/plain": [
              "0     Steak\n",
              "1      Lamb\n",
              "2     Mango\n",
              "3     Apple\n",
              "4    Cheese\n",
              "5     Melon\n",
              "6     Beans\n",
              "Name: favorite food, dtype: object"
            ]
          },
          "metadata": {
            "tags": []
          },
          "execution_count": 54
        }
      ]
    },
    {
      "cell_type": "code",
      "metadata": {
        "id": "LQu48Q56Exnk",
        "colab_type": "code",
        "outputId": "db29e995-5c54-4b32-f205-d77155e9dbf0",
        "colab": {
          "base_uri": "https://localhost:8080/",
          "height": 158
        }
      },
      "source": [
        "df['count']"
      ],
      "execution_count": 0,
      "outputs": [
        {
          "output_type": "execute_result",
          "data": {
            "text/plain": [
              "0    10\n",
              "1     4\n",
              "2     3\n",
              "3    12\n",
              "4     8\n",
              "5    99\n",
              "6    44\n",
              "Name: count, dtype: int64"
            ]
          },
          "metadata": {
            "tags": []
          },
          "execution_count": 55
        }
      ]
    },
    {
      "cell_type": "code",
      "metadata": {
        "id": "iHZAss8fE01K",
        "colab_type": "code",
        "outputId": "572e84fb-0fe4-4744-80c3-fd493d3c9c64",
        "colab": {
          "base_uri": "https://localhost:8080/",
          "height": 158
        }
      },
      "source": [
        "df.count\n",
        "\n",
        "# count is the method in dataframes so when the column name is \"count\" in any dataframe, this column has to be referred as df_name['count']  "
      ],
      "execution_count": 0,
      "outputs": [
        {
          "output_type": "execute_result",
          "data": {
            "text/plain": [
              "<bound method DataFrame.count of         name state  color favorite food  age  height  score  count\n",
              "0       Jane    NY   blue         Steak   30     165    4.6     10\n",
              "1       Niko    TX  green          Lamb    2      70    8.3      4\n",
              "2      Aaron    FL    red         Mango   12     120    9.0      3\n",
              "3   Penelope    AL  white         Apple    4      80    3.3     12\n",
              "4       Dean    AK   gray        Cheese   32     180    1.8      8\n",
              "5  Christina    TX  black         Melon   33     172    9.5     99\n",
              "6   Cornelia    TX    red         Beans   69     150    2.2     44>"
            ]
          },
          "metadata": {
            "tags": []
          },
          "execution_count": 56
        }
      ]
    },
    {
      "cell_type": "code",
      "metadata": {
        "id": "gv6X08xcJR0W",
        "colab_type": "code",
        "outputId": "e7150e13-8dc4-4886-857f-ddb0b4f28642",
        "colab": {
          "base_uri": "https://localhost:8080/",
          "height": 176
        }
      },
      "source": [
        " #find the count of non-NA value across the row axis\n",
        " df.count(axis=0)"
      ],
      "execution_count": 0,
      "outputs": [
        {
          "output_type": "execute_result",
          "data": {
            "text/plain": [
              "name             7\n",
              "state            7\n",
              "color            7\n",
              "favorite food    7\n",
              "age              7\n",
              "height           7\n",
              "score            7\n",
              "count            7\n",
              "dtype: int64"
            ]
          },
          "metadata": {
            "tags": []
          },
          "execution_count": 57
        }
      ]
    },
    {
      "cell_type": "code",
      "metadata": {
        "id": "2n7hmrG4KO3Z",
        "colab_type": "code",
        "outputId": "0123ebe5-4530-4df5-9894-0b7664cdba64",
        "colab": {
          "base_uri": "https://localhost:8080/",
          "height": 158
        }
      },
      "source": [
        "#find the count of non-NA value across the column axis, this works horizontally and gives count of non null values in each row by index\n",
        "df.count(axis=1)   "
      ],
      "execution_count": 0,
      "outputs": [
        {
          "output_type": "execute_result",
          "data": {
            "text/plain": [
              "0    8\n",
              "1    8\n",
              "2    8\n",
              "3    8\n",
              "4    8\n",
              "5    8\n",
              "6    8\n",
              "dtype: int64"
            ]
          },
          "metadata": {
            "tags": []
          },
          "execution_count": 58
        }
      ]
    },
    {
      "cell_type": "code",
      "metadata": {
        "id": "r7nXdFnLKvg-",
        "colab_type": "code",
        "outputId": "52b00f1a-2bbe-45d3-eb0b-77b875df16e9",
        "colab": {
          "base_uri": "https://localhost:8080/",
          "height": 158
        }
      },
      "source": [
        "print(repr(df))"
      ],
      "execution_count": 0,
      "outputs": [
        {
          "output_type": "stream",
          "text": [
            "        name state  color favorite food  age  height  score  count\n",
            "0       Jane    NY   blue         Steak   30     165    4.6     10\n",
            "1       Niko    TX  green          Lamb    2      70    8.3      4\n",
            "2      Aaron    FL    red         Mango   12     120    9.0      3\n",
            "3   Penelope    AL  white         Apple    4      80    3.3     12\n",
            "4       Dean    AK   gray        Cheese   32     180    1.8      8\n",
            "5  Christina    TX  black         Melon   33     172    9.5     99\n",
            "6   Cornelia    TX    red         Beans   69     150    2.2     44\n"
          ],
          "name": "stdout"
        }
      ]
    },
    {
      "cell_type": "code",
      "metadata": {
        "id": "Vt59Ome4MBwJ",
        "colab_type": "code",
        "outputId": "1a34cc16-fdb2-4a60-b2d3-512322b4324f",
        "colab": {
          "base_uri": "https://localhost:8080/",
          "height": 54
        }
      },
      "source": [
        "str(df)"
      ],
      "execution_count": 0,
      "outputs": [
        {
          "output_type": "execute_result",
          "data": {
            "text/plain": [
              "'        name state  color favorite food  age  height  score  count\\n0       Jane    NY   blue         Steak   30     165    4.6     10\\n1       Niko    TX  green          Lamb    2      70    8.3      4\\n2      Aaron    FL    red         Mango   12     120    9.0      3\\n3   Penelope    AL  white         Apple    4      80    3.3     12\\n4       Dean    AK   gray        Cheese   32     180    1.8      8\\n5  Christina    TX  black         Melon   33     172    9.5     99\\n6   Cornelia    TX    red         Beans   69     150    2.2     44'"
            ]
          },
          "metadata": {
            "tags": []
          },
          "execution_count": 60
        }
      ]
    },
    {
      "cell_type": "markdown",
      "metadata": {
        "id": "3Na2ZRPFMaDI",
        "colab_type": "text"
      },
      "source": [
        "## Select multiple columns"
      ]
    },
    {
      "cell_type": "code",
      "metadata": {
        "id": "md2M1RdeM9B8",
        "colab_type": "code",
        "outputId": "f2c27af8-2eb4-4a76-f809-3977e83b0a8c",
        "colab": {
          "base_uri": "https://localhost:8080/",
          "height": 257
        }
      },
      "source": [
        "df[['state', 'age', 'color']]"
      ],
      "execution_count": 0,
      "outputs": [
        {
          "output_type": "execute_result",
          "data": {
            "text/html": [
              "<div>\n",
              "<style scoped>\n",
              "    .dataframe tbody tr th:only-of-type {\n",
              "        vertical-align: middle;\n",
              "    }\n",
              "\n",
              "    .dataframe tbody tr th {\n",
              "        vertical-align: top;\n",
              "    }\n",
              "\n",
              "    .dataframe thead th {\n",
              "        text-align: right;\n",
              "    }\n",
              "</style>\n",
              "<table border=\"1\" class=\"dataframe\">\n",
              "  <thead>\n",
              "    <tr style=\"text-align: right;\">\n",
              "      <th></th>\n",
              "      <th>state</th>\n",
              "      <th>age</th>\n",
              "      <th>color</th>\n",
              "    </tr>\n",
              "  </thead>\n",
              "  <tbody>\n",
              "    <tr>\n",
              "      <th>0</th>\n",
              "      <td>NY</td>\n",
              "      <td>30</td>\n",
              "      <td>blue</td>\n",
              "    </tr>\n",
              "    <tr>\n",
              "      <th>1</th>\n",
              "      <td>TX</td>\n",
              "      <td>2</td>\n",
              "      <td>green</td>\n",
              "    </tr>\n",
              "    <tr>\n",
              "      <th>2</th>\n",
              "      <td>FL</td>\n",
              "      <td>12</td>\n",
              "      <td>red</td>\n",
              "    </tr>\n",
              "    <tr>\n",
              "      <th>3</th>\n",
              "      <td>AL</td>\n",
              "      <td>4</td>\n",
              "      <td>white</td>\n",
              "    </tr>\n",
              "    <tr>\n",
              "      <th>4</th>\n",
              "      <td>AK</td>\n",
              "      <td>32</td>\n",
              "      <td>gray</td>\n",
              "    </tr>\n",
              "    <tr>\n",
              "      <th>5</th>\n",
              "      <td>TX</td>\n",
              "      <td>33</td>\n",
              "      <td>black</td>\n",
              "    </tr>\n",
              "    <tr>\n",
              "      <th>6</th>\n",
              "      <td>TX</td>\n",
              "      <td>69</td>\n",
              "      <td>red</td>\n",
              "    </tr>\n",
              "  </tbody>\n",
              "</table>\n",
              "</div>"
            ],
            "text/plain": [
              "  state  age  color\n",
              "0    NY   30   blue\n",
              "1    TX    2  green\n",
              "2    FL   12    red\n",
              "3    AL    4  white\n",
              "4    AK   32   gray\n",
              "5    TX   33  black\n",
              "6    TX   69    red"
            ]
          },
          "metadata": {
            "tags": []
          },
          "execution_count": 61
        }
      ]
    },
    {
      "cell_type": "markdown",
      "metadata": {
        "id": "5nEXbeL7NStk",
        "colab_type": "text"
      },
      "source": [
        "### For clarity, consider creating a list first\n"
      ]
    },
    {
      "cell_type": "code",
      "metadata": {
        "id": "rStB5tCZNaTr",
        "colab_type": "code",
        "outputId": "f4f548d9-2712-4d89-d5c6-98975a5e0a59",
        "colab": {
          "base_uri": "https://localhost:8080/",
          "height": 257
        }
      },
      "source": [
        "cols=['state', 'age', 'color']\n",
        "df[cols]"
      ],
      "execution_count": 0,
      "outputs": [
        {
          "output_type": "execute_result",
          "data": {
            "text/html": [
              "<div>\n",
              "<style scoped>\n",
              "    .dataframe tbody tr th:only-of-type {\n",
              "        vertical-align: middle;\n",
              "    }\n",
              "\n",
              "    .dataframe tbody tr th {\n",
              "        vertical-align: top;\n",
              "    }\n",
              "\n",
              "    .dataframe thead th {\n",
              "        text-align: right;\n",
              "    }\n",
              "</style>\n",
              "<table border=\"1\" class=\"dataframe\">\n",
              "  <thead>\n",
              "    <tr style=\"text-align: right;\">\n",
              "      <th></th>\n",
              "      <th>state</th>\n",
              "      <th>age</th>\n",
              "      <th>color</th>\n",
              "    </tr>\n",
              "  </thead>\n",
              "  <tbody>\n",
              "    <tr>\n",
              "      <th>0</th>\n",
              "      <td>NY</td>\n",
              "      <td>30</td>\n",
              "      <td>blue</td>\n",
              "    </tr>\n",
              "    <tr>\n",
              "      <th>1</th>\n",
              "      <td>TX</td>\n",
              "      <td>2</td>\n",
              "      <td>green</td>\n",
              "    </tr>\n",
              "    <tr>\n",
              "      <th>2</th>\n",
              "      <td>FL</td>\n",
              "      <td>12</td>\n",
              "      <td>red</td>\n",
              "    </tr>\n",
              "    <tr>\n",
              "      <th>3</th>\n",
              "      <td>AL</td>\n",
              "      <td>4</td>\n",
              "      <td>white</td>\n",
              "    </tr>\n",
              "    <tr>\n",
              "      <th>4</th>\n",
              "      <td>AK</td>\n",
              "      <td>32</td>\n",
              "      <td>gray</td>\n",
              "    </tr>\n",
              "    <tr>\n",
              "      <th>5</th>\n",
              "      <td>TX</td>\n",
              "      <td>33</td>\n",
              "      <td>black</td>\n",
              "    </tr>\n",
              "    <tr>\n",
              "      <th>6</th>\n",
              "      <td>TX</td>\n",
              "      <td>69</td>\n",
              "      <td>red</td>\n",
              "    </tr>\n",
              "  </tbody>\n",
              "</table>\n",
              "</div>"
            ],
            "text/plain": [
              "  state  age  color\n",
              "0    NY   30   blue\n",
              "1    TX    2  green\n",
              "2    FL   12    red\n",
              "3    AL    4  white\n",
              "4    AK   32   gray\n",
              "5    TX   33  black\n",
              "6    TX   69    red"
            ]
          },
          "metadata": {
            "tags": []
          },
          "execution_count": 62
        }
      ]
    },
    {
      "cell_type": "markdown",
      "metadata": {
        "id": "ywm98J7MNfqs",
        "colab_type": "text"
      },
      "source": [
        "## Selecting Rows and Columns Simultaneously with loc and iloc"
      ]
    },
    {
      "cell_type": "code",
      "metadata": {
        "id": "ETEUGh-oP4J1",
        "colab_type": "code",
        "colab": {}
      },
      "source": [
        "# loc - access by label\n",
        "# iloc - access by integer/index location"
      ],
      "execution_count": 0,
      "outputs": []
    },
    {
      "cell_type": "code",
      "metadata": {
        "id": "7BaXKQB_Pqoy",
        "colab_type": "code",
        "colab": {}
      },
      "source": [
        "# Rows and columns in a Pandas DataFrame can be referenced in two ways - by either label or integer location. \n",
        "# This dual reference is one of the reasons that subset selection is confusing for beginners. \n",
        "# Pandas provides the indexers loc to handle selection by label and iloc for selection by integer location.\n",
        "# Both are capable of simultaneously selecting rows and columns.\n",
        "\n",
        "# Let's select by label with loc the rows for Niko and Dean along with the columns age, favorite food and score. \n",
        "# We create two separate lists for clarity."
      ],
      "execution_count": 0,
      "outputs": []
    },
    {
      "cell_type": "markdown",
      "metadata": {
        "id": "S2c6kdzHTFpK",
        "colab_type": "text"
      },
      "source": [
        "## loc syntax -> df.loc[rows,columns]"
      ]
    },
    {
      "cell_type": "code",
      "metadata": {
        "id": "U2FUz2SbSW12",
        "colab_type": "code",
        "outputId": "a3b211b3-064f-421d-fa81-dea4d87034a7",
        "colab": {
          "base_uri": "https://localhost:8080/",
          "height": 34
        }
      },
      "source": [
        "df.columns"
      ],
      "execution_count": 0,
      "outputs": [
        {
          "output_type": "execute_result",
          "data": {
            "text/plain": [
              "Index(['state', 'color', 'favorite food', 'age', 'height', 'score', 'count'], dtype='object')"
            ]
          },
          "metadata": {
            "tags": []
          },
          "execution_count": 91
        }
      ]
    },
    {
      "cell_type": "code",
      "metadata": {
        "id": "JIIbTAjENmlX",
        "colab_type": "code",
        "outputId": "ee973e21-e650-43ae-a8dc-0e7123a70488",
        "colab": {
          "base_uri": "https://localhost:8080/",
          "height": 137
        }
      },
      "source": [
        "#df.set_index('name', inplace=True)\n",
        "rows = ['Jane', 'Dean']\n",
        "cols = ['age', 'favorite food', 'score']\n",
        "df.loc[rows,cols]"
      ],
      "execution_count": 0,
      "outputs": [
        {
          "output_type": "execute_result",
          "data": {
            "text/html": [
              "<div>\n",
              "<style scoped>\n",
              "    .dataframe tbody tr th:only-of-type {\n",
              "        vertical-align: middle;\n",
              "    }\n",
              "\n",
              "    .dataframe tbody tr th {\n",
              "        vertical-align: top;\n",
              "    }\n",
              "\n",
              "    .dataframe thead th {\n",
              "        text-align: right;\n",
              "    }\n",
              "</style>\n",
              "<table border=\"1\" class=\"dataframe\">\n",
              "  <thead>\n",
              "    <tr style=\"text-align: right;\">\n",
              "      <th></th>\n",
              "      <th>age</th>\n",
              "      <th>favorite food</th>\n",
              "      <th>score</th>\n",
              "    </tr>\n",
              "    <tr>\n",
              "      <th>name</th>\n",
              "      <th></th>\n",
              "      <th></th>\n",
              "      <th></th>\n",
              "    </tr>\n",
              "  </thead>\n",
              "  <tbody>\n",
              "    <tr>\n",
              "      <th>Jane</th>\n",
              "      <td>30</td>\n",
              "      <td>Steak</td>\n",
              "      <td>4.6</td>\n",
              "    </tr>\n",
              "    <tr>\n",
              "      <th>Dean</th>\n",
              "      <td>32</td>\n",
              "      <td>Cheese</td>\n",
              "      <td>1.8</td>\n",
              "    </tr>\n",
              "  </tbody>\n",
              "</table>\n",
              "</div>"
            ],
            "text/plain": [
              "      age favorite food  score\n",
              "name                          \n",
              "Jane   30         Steak    4.6\n",
              "Dean   32        Cheese    1.8"
            ]
          },
          "metadata": {
            "tags": []
          },
          "execution_count": 99
        }
      ]
    },
    {
      "cell_type": "code",
      "metadata": {
        "id": "izrUTqc4QvGC",
        "colab_type": "code",
        "outputId": "cd0534f6-1be2-4d1a-d9ea-aa2f2133761e",
        "colab": {
          "base_uri": "https://localhost:8080/",
          "height": 34
        }
      },
      "source": [
        "df.index"
      ],
      "execution_count": 0,
      "outputs": [
        {
          "output_type": "execute_result",
          "data": {
            "text/plain": [
              "Index(['Jane', 'Niko', 'Aaron', 'Penelope', 'Dean', 'Christina', 'Cornelia'], dtype='object', name='name')"
            ]
          },
          "metadata": {
            "tags": []
          },
          "execution_count": 85
        }
      ]
    },
    {
      "cell_type": "markdown",
      "metadata": {
        "id": "TsB0zWxJTQl5",
        "colab_type": "text"
      },
      "source": [
        "## iloc syntax -> df.iloc[row_index, column_index]"
      ]
    },
    {
      "cell_type": "code",
      "metadata": {
        "id": "vhqs_aTnRSMH",
        "colab_type": "code",
        "colab": {}
      },
      "source": [
        "##  syntax - df.iloc[rows, cols]"
      ],
      "execution_count": 0,
      "outputs": []
    },
    {
      "cell_type": "code",
      "metadata": {
        "id": "9lwQm-zFQbD4",
        "colab_type": "code",
        "outputId": "efa03c42-9eab-492e-fff3-e3e788c18a25",
        "colab": {
          "base_uri": "https://localhost:8080/",
          "height": 137
        }
      },
      "source": [
        "rows = [1, 2, 5]\n",
        "cols = [0, 4]\n",
        "df.iloc[rows, cols]\n",
        "df.iloc[[1, 2, 5],[0,4]]"
      ],
      "execution_count": 0,
      "outputs": [
        {
          "output_type": "execute_result",
          "data": {
            "text/html": [
              "<div>\n",
              "<style scoped>\n",
              "    .dataframe tbody tr th:only-of-type {\n",
              "        vertical-align: middle;\n",
              "    }\n",
              "\n",
              "    .dataframe tbody tr th {\n",
              "        vertical-align: top;\n",
              "    }\n",
              "\n",
              "    .dataframe thead th {\n",
              "        text-align: right;\n",
              "    }\n",
              "</style>\n",
              "<table border=\"1\" class=\"dataframe\">\n",
              "  <thead>\n",
              "    <tr style=\"text-align: right;\">\n",
              "      <th></th>\n",
              "      <th>name</th>\n",
              "      <th>age</th>\n",
              "    </tr>\n",
              "  </thead>\n",
              "  <tbody>\n",
              "    <tr>\n",
              "      <th>1</th>\n",
              "      <td>Niko</td>\n",
              "      <td>2</td>\n",
              "    </tr>\n",
              "    <tr>\n",
              "      <th>2</th>\n",
              "      <td>Aaron</td>\n",
              "      <td>12</td>\n",
              "    </tr>\n",
              "    <tr>\n",
              "      <th>5</th>\n",
              "      <td>Christina</td>\n",
              "      <td>33</td>\n",
              "    </tr>\n",
              "  </tbody>\n",
              "</table>\n",
              "</div>"
            ],
            "text/plain": [
              "        name  age\n",
              "1       Niko    2\n",
              "2      Aaron   12\n",
              "5  Christina   33"
            ]
          },
          "metadata": {
            "tags": []
          },
          "execution_count": 72
        }
      ]
    },
    {
      "cell_type": "code",
      "metadata": {
        "id": "HdTksGm4RD15",
        "colab_type": "code",
        "outputId": "282de6fa-33e8-41f6-9f2e-f53a2495626b",
        "colab": {
          "base_uri": "https://localhost:8080/",
          "height": 257
        }
      },
      "source": [
        "df.iloc[:,df.columns!='count']"
      ],
      "execution_count": 0,
      "outputs": [
        {
          "output_type": "execute_result",
          "data": {
            "text/html": [
              "<div>\n",
              "<style scoped>\n",
              "    .dataframe tbody tr th:only-of-type {\n",
              "        vertical-align: middle;\n",
              "    }\n",
              "\n",
              "    .dataframe tbody tr th {\n",
              "        vertical-align: top;\n",
              "    }\n",
              "\n",
              "    .dataframe thead th {\n",
              "        text-align: right;\n",
              "    }\n",
              "</style>\n",
              "<table border=\"1\" class=\"dataframe\">\n",
              "  <thead>\n",
              "    <tr style=\"text-align: right;\">\n",
              "      <th></th>\n",
              "      <th>name</th>\n",
              "      <th>state</th>\n",
              "      <th>color</th>\n",
              "      <th>favorite food</th>\n",
              "      <th>age</th>\n",
              "      <th>height</th>\n",
              "      <th>score</th>\n",
              "    </tr>\n",
              "  </thead>\n",
              "  <tbody>\n",
              "    <tr>\n",
              "      <th>0</th>\n",
              "      <td>Jane</td>\n",
              "      <td>NY</td>\n",
              "      <td>blue</td>\n",
              "      <td>Steak</td>\n",
              "      <td>30</td>\n",
              "      <td>165</td>\n",
              "      <td>4.6</td>\n",
              "    </tr>\n",
              "    <tr>\n",
              "      <th>1</th>\n",
              "      <td>Niko</td>\n",
              "      <td>TX</td>\n",
              "      <td>green</td>\n",
              "      <td>Lamb</td>\n",
              "      <td>2</td>\n",
              "      <td>70</td>\n",
              "      <td>8.3</td>\n",
              "    </tr>\n",
              "    <tr>\n",
              "      <th>2</th>\n",
              "      <td>Aaron</td>\n",
              "      <td>FL</td>\n",
              "      <td>red</td>\n",
              "      <td>Mango</td>\n",
              "      <td>12</td>\n",
              "      <td>120</td>\n",
              "      <td>9.0</td>\n",
              "    </tr>\n",
              "    <tr>\n",
              "      <th>3</th>\n",
              "      <td>Penelope</td>\n",
              "      <td>AL</td>\n",
              "      <td>white</td>\n",
              "      <td>Apple</td>\n",
              "      <td>4</td>\n",
              "      <td>80</td>\n",
              "      <td>3.3</td>\n",
              "    </tr>\n",
              "    <tr>\n",
              "      <th>4</th>\n",
              "      <td>Dean</td>\n",
              "      <td>AK</td>\n",
              "      <td>gray</td>\n",
              "      <td>Cheese</td>\n",
              "      <td>32</td>\n",
              "      <td>180</td>\n",
              "      <td>1.8</td>\n",
              "    </tr>\n",
              "    <tr>\n",
              "      <th>5</th>\n",
              "      <td>Christina</td>\n",
              "      <td>TX</td>\n",
              "      <td>black</td>\n",
              "      <td>Melon</td>\n",
              "      <td>33</td>\n",
              "      <td>172</td>\n",
              "      <td>9.5</td>\n",
              "    </tr>\n",
              "    <tr>\n",
              "      <th>6</th>\n",
              "      <td>Cornelia</td>\n",
              "      <td>TX</td>\n",
              "      <td>red</td>\n",
              "      <td>Beans</td>\n",
              "      <td>69</td>\n",
              "      <td>150</td>\n",
              "      <td>2.2</td>\n",
              "    </tr>\n",
              "  </tbody>\n",
              "</table>\n",
              "</div>"
            ],
            "text/plain": [
              "        name state  color favorite food  age  height  score\n",
              "0       Jane    NY   blue         Steak   30     165    4.6\n",
              "1       Niko    TX  green          Lamb    2      70    8.3\n",
              "2      Aaron    FL    red         Mango   12     120    9.0\n",
              "3   Penelope    AL  white         Apple    4      80    3.3\n",
              "4       Dean    AK   gray        Cheese   32     180    1.8\n",
              "5  Christina    TX  black         Melon   33     172    9.5\n",
              "6   Cornelia    TX    red         Beans   69     150    2.2"
            ]
          },
          "metadata": {
            "tags": []
          },
          "execution_count": 75
        }
      ]
    },
    {
      "cell_type": "markdown",
      "metadata": {
        "id": "jyww_4h4Tq4F",
        "colab_type": "text"
      },
      "source": [
        "## filtering not null records"
      ]
    },
    {
      "cell_type": "code",
      "metadata": {
        "id": "Gz_P_3OHQDdG",
        "colab_type": "code",
        "colab": {}
      },
      "source": [
        "sms= pd.read_csv('https://raw.githubusercontent.com/insaid2018/Term-3/master/Projects/spam.csv', encoding='latin-1')\n",
        "\n",
        "sms[pd.notnull(sms['Unnamed: 2'])]"
      ],
      "execution_count": 0,
      "outputs": []
    }
  ]
}